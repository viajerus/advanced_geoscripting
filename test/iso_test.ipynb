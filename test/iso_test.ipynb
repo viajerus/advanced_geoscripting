{
 "cells": [
  {
   "cell_type": "code",
   "id": "initial_id",
   "metadata": {
    "collapsed": true,
    "ExecuteTime": {
     "end_time": "2025-10-28T17:36:36.928280Z",
     "start_time": "2025-10-28T17:36:36.679682Z"
    }
   },
   "source": [
    "import argparse\n",
    "import json\n",
    "import logging\n",
    "import shutil\n",
    "\n",
    "import openrouteservice as ors\n",
    "import pandas as pd\n",
    "\n",
    "from advanced_geoscripting.scripts.utils import load_config\n",
    "from advanced_geoscripting.scripts.filepaths import FilePaths"
   ],
   "outputs": [],
   "execution_count": 5
  },
  {
   "metadata": {
    "ExecuteTime": {
     "end_time": "2025-10-28T17:36:41.466475Z",
     "start_time": "2025-10-28T17:36:41.450712Z"
    }
   },
   "cell_type": "code",
   "source": [
    "df = pd.read_csv(\"../run_pairs.csv\")\n",
    "df"
   ],
   "id": "15763938749334dd",
   "outputs": [
    {
     "data": {
      "text/plain": [
       "    Unnamed: 0       lon        lat      lon2       lat2   distance\n",
       "0            0  8.681673  49.436255  8.664183  49.381690   6.194010\n",
       "1            1  8.626623  49.429120  8.638298  49.377357   5.813829\n",
       "2            2  8.657504  49.418083  8.752665  49.396174   7.298887\n",
       "3            3  8.747789  49.408750  8.605112  49.424165  10.455903\n",
       "4            4  8.688200  49.369890  8.745959  49.424481   7.365509\n",
       "..         ...       ...        ...       ...        ...        ...\n",
       "85          95  8.637173  49.410095  8.690562  49.417784   3.953267\n",
       "86          96  8.703606  49.366836  8.702268  49.416198   5.486261\n",
       "87          97  8.714224  49.411343  8.641492  49.406389   5.287611\n",
       "88          98  8.698501  49.403413  8.755992  49.424489   4.770830\n",
       "89          99  8.745627  49.406574  8.714936  49.375165   4.136471\n",
       "\n",
       "[90 rows x 6 columns]"
      ],
      "text/html": [
       "<div>\n",
       "<style scoped>\n",
       "    .dataframe tbody tr th:only-of-type {\n",
       "        vertical-align: middle;\n",
       "    }\n",
       "\n",
       "    .dataframe tbody tr th {\n",
       "        vertical-align: top;\n",
       "    }\n",
       "\n",
       "    .dataframe thead th {\n",
       "        text-align: right;\n",
       "    }\n",
       "</style>\n",
       "<table border=\"1\" class=\"dataframe\">\n",
       "  <thead>\n",
       "    <tr style=\"text-align: right;\">\n",
       "      <th></th>\n",
       "      <th>Unnamed: 0</th>\n",
       "      <th>lon</th>\n",
       "      <th>lat</th>\n",
       "      <th>lon2</th>\n",
       "      <th>lat2</th>\n",
       "      <th>distance</th>\n",
       "    </tr>\n",
       "  </thead>\n",
       "  <tbody>\n",
       "    <tr>\n",
       "      <th>0</th>\n",
       "      <td>0</td>\n",
       "      <td>8.681673</td>\n",
       "      <td>49.436255</td>\n",
       "      <td>8.664183</td>\n",
       "      <td>49.381690</td>\n",
       "      <td>6.194010</td>\n",
       "    </tr>\n",
       "    <tr>\n",
       "      <th>1</th>\n",
       "      <td>1</td>\n",
       "      <td>8.626623</td>\n",
       "      <td>49.429120</td>\n",
       "      <td>8.638298</td>\n",
       "      <td>49.377357</td>\n",
       "      <td>5.813829</td>\n",
       "    </tr>\n",
       "    <tr>\n",
       "      <th>2</th>\n",
       "      <td>2</td>\n",
       "      <td>8.657504</td>\n",
       "      <td>49.418083</td>\n",
       "      <td>8.752665</td>\n",
       "      <td>49.396174</td>\n",
       "      <td>7.298887</td>\n",
       "    </tr>\n",
       "    <tr>\n",
       "      <th>3</th>\n",
       "      <td>3</td>\n",
       "      <td>8.747789</td>\n",
       "      <td>49.408750</td>\n",
       "      <td>8.605112</td>\n",
       "      <td>49.424165</td>\n",
       "      <td>10.455903</td>\n",
       "    </tr>\n",
       "    <tr>\n",
       "      <th>4</th>\n",
       "      <td>4</td>\n",
       "      <td>8.688200</td>\n",
       "      <td>49.369890</td>\n",
       "      <td>8.745959</td>\n",
       "      <td>49.424481</td>\n",
       "      <td>7.365509</td>\n",
       "    </tr>\n",
       "    <tr>\n",
       "      <th>...</th>\n",
       "      <td>...</td>\n",
       "      <td>...</td>\n",
       "      <td>...</td>\n",
       "      <td>...</td>\n",
       "      <td>...</td>\n",
       "      <td>...</td>\n",
       "    </tr>\n",
       "    <tr>\n",
       "      <th>85</th>\n",
       "      <td>95</td>\n",
       "      <td>8.637173</td>\n",
       "      <td>49.410095</td>\n",
       "      <td>8.690562</td>\n",
       "      <td>49.417784</td>\n",
       "      <td>3.953267</td>\n",
       "    </tr>\n",
       "    <tr>\n",
       "      <th>86</th>\n",
       "      <td>96</td>\n",
       "      <td>8.703606</td>\n",
       "      <td>49.366836</td>\n",
       "      <td>8.702268</td>\n",
       "      <td>49.416198</td>\n",
       "      <td>5.486261</td>\n",
       "    </tr>\n",
       "    <tr>\n",
       "      <th>87</th>\n",
       "      <td>97</td>\n",
       "      <td>8.714224</td>\n",
       "      <td>49.411343</td>\n",
       "      <td>8.641492</td>\n",
       "      <td>49.406389</td>\n",
       "      <td>5.287611</td>\n",
       "    </tr>\n",
       "    <tr>\n",
       "      <th>88</th>\n",
       "      <td>98</td>\n",
       "      <td>8.698501</td>\n",
       "      <td>49.403413</td>\n",
       "      <td>8.755992</td>\n",
       "      <td>49.424489</td>\n",
       "      <td>4.770830</td>\n",
       "    </tr>\n",
       "    <tr>\n",
       "      <th>89</th>\n",
       "      <td>99</td>\n",
       "      <td>8.745627</td>\n",
       "      <td>49.406574</td>\n",
       "      <td>8.714936</td>\n",
       "      <td>49.375165</td>\n",
       "      <td>4.136471</td>\n",
       "    </tr>\n",
       "  </tbody>\n",
       "</table>\n",
       "<p>90 rows × 6 columns</p>\n",
       "</div>"
      ]
     },
     "execution_count": 6,
     "metadata": {},
     "output_type": "execute_result"
    }
   ],
   "execution_count": 6
  },
  {
   "metadata": {
    "ExecuteTime": {
     "end_time": "2025-10-28T17:37:41.914600Z",
     "start_time": "2025-10-28T17:37:41.908329Z"
    }
   },
   "cell_type": "code",
   "source": "df['lon'][2]",
   "id": "cb9e51ab2baf4b5e",
   "outputs": [
    {
     "data": {
      "text/plain": [
       "np.float64(8.657503792414388)"
      ]
     },
     "execution_count": 9,
     "metadata": {},
     "output_type": "execute_result"
    }
   ],
   "execution_count": 9
  },
  {
   "metadata": {
    "ExecuteTime": {
     "end_time": "2025-10-28T17:39:31.031653Z",
     "start_time": "2025-10-28T17:39:30.970148Z"
    }
   },
   "cell_type": "code",
   "source": [
    "headers = {\n",
    "        \"headers\": {\n",
    "            \"Accept\": \"application/json, application/geo+json, \"\n",
    "            \"application/gpx+xml, img/png; charset=utf-8\",\n",
    "            \"Content-Type\": \"application/json; charset=utf-8\",\n",
    "        }\n",
    "    }\n",
    "\n",
    "ors_url = \"https://heal.openrouteservice.org/api-iso/ors/\"\n",
    "\n",
    "client = ors.Client(base_url=ors_url)\n",
    "\n",
    "start_coordinate = [df['lon'][2], df['lat'][1]]\n",
    "destination_coordinate = [df['lon2'][2], df['lat2'][1]]\n",
    "\n",
    "profile = \"foot-walking\"\n",
    "\n",
    "\n",
    "parameters = {\n",
    "        \"coordinates\": [start_coordinate, destination_coordinate],\n",
    "        \"instructions\": \"false\",\n",
    "        \"preference\": \"recommended\",\n",
    "        \"extra_info\": [\"csv\"],\n",
    "        \"elevation\": \"true\",\n",
    "        \"continue_straight\": \"true\",\n",
    "        \"options\": {\n",
    "            \"avoid_features\": [\"ferries\"],\n",
    "            \"profile_params\": {\"weightings\": {\"csv_factor\": 1, \"csv_column\": \"noon\"}},\n",
    "        },\n",
    "    }\n",
    "\n",
    "ors_response = client.request(\n",
    "        url=f\"v2/directions/{profile}/geojson\",\n",
    "        post_json=parameters,\n",
    "        requests_kwargs=headers,\n",
    "    )\n",
    "\n",
    "with open(\"../data/run_v1/01_raw/01_routes/route_1.geojson\", \"w\") as f:\n",
    "    json.dump(ors_response, f)"
   ],
   "id": "9698acc9e8cce71d",
   "outputs": [],
   "execution_count": 11
  }
 ],
 "metadata": {
  "kernelspec": {
   "display_name": "Python 3",
   "language": "python",
   "name": "python3"
  },
  "language_info": {
   "codemirror_mode": {
    "name": "ipython",
    "version": 2
   },
   "file_extension": ".py",
   "mimetype": "text/x-python",
   "name": "python",
   "nbconvert_exporter": "python",
   "pygments_lexer": "ipython2",
   "version": "2.7.6"
  }
 },
 "nbformat": 4,
 "nbformat_minor": 5
}
