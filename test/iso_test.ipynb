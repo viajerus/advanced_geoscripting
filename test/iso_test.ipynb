{
 "cells": [
  {
   "cell_type": "code",
   "id": "initial_id",
   "metadata": {
    "collapsed": true,
    "ExecuteTime": {
     "end_time": "2025-10-28T21:32:52.428713Z",
     "start_time": "2025-10-28T21:32:52.387606Z"
    }
   },
   "source": [
    "import argparse\n",
    "import json\n",
    "import logging\n",
    "import shutil\n",
    "\n",
    "import openrouteservice as ors\n",
    "import pandas as pd\n",
    "import numpy as np\n",
    "\n",
    "from scripts.utils import load_config\n",
    "from scripts.filepaths import FilePaths"
   ],
   "outputs": [],
   "execution_count": 9
  },
  {
   "metadata": {
    "ExecuteTime": {
     "end_time": "2025-10-28T21:33:40.682183Z",
     "start_time": "2025-10-28T21:33:40.639038Z"
    }
   },
   "cell_type": "code",
   "source": [
    "df = pd.read_csv(\"../run_pairs.csv\")\n",
    "\n",
    "df['id'] = np.arange(0, len(df))\n",
    "\n",
    "del df['Unnamed: 0']\n",
    "\n",
    "df"
   ],
   "id": "15763938749334dd",
   "outputs": [
    {
     "data": {
      "text/plain": [
       "         lon        lat      lon2       lat2   distance  id\n",
       "0   8.681673  49.436255  8.664183  49.381690   6.194010   0\n",
       "1   8.626623  49.429120  8.638298  49.377357   5.813829   1\n",
       "2   8.657504  49.418083  8.752665  49.396174   7.298887   2\n",
       "3   8.747789  49.408750  8.605112  49.424165  10.455903   3\n",
       "4   8.688200  49.369890  8.745959  49.424481   7.365509   4\n",
       "..       ...        ...       ...        ...        ...  ..\n",
       "85  8.637173  49.410095  8.690562  49.417784   3.953267  85\n",
       "86  8.703606  49.366836  8.702268  49.416198   5.486261  86\n",
       "87  8.714224  49.411343  8.641492  49.406389   5.287611  87\n",
       "88  8.698501  49.403413  8.755992  49.424489   4.770830  88\n",
       "89  8.745627  49.406574  8.714936  49.375165   4.136471  89\n",
       "\n",
       "[90 rows x 6 columns]"
      ],
      "text/html": [
       "<div>\n",
       "<style scoped>\n",
       "    .dataframe tbody tr th:only-of-type {\n",
       "        vertical-align: middle;\n",
       "    }\n",
       "\n",
       "    .dataframe tbody tr th {\n",
       "        vertical-align: top;\n",
       "    }\n",
       "\n",
       "    .dataframe thead th {\n",
       "        text-align: right;\n",
       "    }\n",
       "</style>\n",
       "<table border=\"1\" class=\"dataframe\">\n",
       "  <thead>\n",
       "    <tr style=\"text-align: right;\">\n",
       "      <th></th>\n",
       "      <th>lon</th>\n",
       "      <th>lat</th>\n",
       "      <th>lon2</th>\n",
       "      <th>lat2</th>\n",
       "      <th>distance</th>\n",
       "      <th>id</th>\n",
       "    </tr>\n",
       "  </thead>\n",
       "  <tbody>\n",
       "    <tr>\n",
       "      <th>0</th>\n",
       "      <td>8.681673</td>\n",
       "      <td>49.436255</td>\n",
       "      <td>8.664183</td>\n",
       "      <td>49.381690</td>\n",
       "      <td>6.194010</td>\n",
       "      <td>0</td>\n",
       "    </tr>\n",
       "    <tr>\n",
       "      <th>1</th>\n",
       "      <td>8.626623</td>\n",
       "      <td>49.429120</td>\n",
       "      <td>8.638298</td>\n",
       "      <td>49.377357</td>\n",
       "      <td>5.813829</td>\n",
       "      <td>1</td>\n",
       "    </tr>\n",
       "    <tr>\n",
       "      <th>2</th>\n",
       "      <td>8.657504</td>\n",
       "      <td>49.418083</td>\n",
       "      <td>8.752665</td>\n",
       "      <td>49.396174</td>\n",
       "      <td>7.298887</td>\n",
       "      <td>2</td>\n",
       "    </tr>\n",
       "    <tr>\n",
       "      <th>3</th>\n",
       "      <td>8.747789</td>\n",
       "      <td>49.408750</td>\n",
       "      <td>8.605112</td>\n",
       "      <td>49.424165</td>\n",
       "      <td>10.455903</td>\n",
       "      <td>3</td>\n",
       "    </tr>\n",
       "    <tr>\n",
       "      <th>4</th>\n",
       "      <td>8.688200</td>\n",
       "      <td>49.369890</td>\n",
       "      <td>8.745959</td>\n",
       "      <td>49.424481</td>\n",
       "      <td>7.365509</td>\n",
       "      <td>4</td>\n",
       "    </tr>\n",
       "    <tr>\n",
       "      <th>...</th>\n",
       "      <td>...</td>\n",
       "      <td>...</td>\n",
       "      <td>...</td>\n",
       "      <td>...</td>\n",
       "      <td>...</td>\n",
       "      <td>...</td>\n",
       "    </tr>\n",
       "    <tr>\n",
       "      <th>85</th>\n",
       "      <td>8.637173</td>\n",
       "      <td>49.410095</td>\n",
       "      <td>8.690562</td>\n",
       "      <td>49.417784</td>\n",
       "      <td>3.953267</td>\n",
       "      <td>85</td>\n",
       "    </tr>\n",
       "    <tr>\n",
       "      <th>86</th>\n",
       "      <td>8.703606</td>\n",
       "      <td>49.366836</td>\n",
       "      <td>8.702268</td>\n",
       "      <td>49.416198</td>\n",
       "      <td>5.486261</td>\n",
       "      <td>86</td>\n",
       "    </tr>\n",
       "    <tr>\n",
       "      <th>87</th>\n",
       "      <td>8.714224</td>\n",
       "      <td>49.411343</td>\n",
       "      <td>8.641492</td>\n",
       "      <td>49.406389</td>\n",
       "      <td>5.287611</td>\n",
       "      <td>87</td>\n",
       "    </tr>\n",
       "    <tr>\n",
       "      <th>88</th>\n",
       "      <td>8.698501</td>\n",
       "      <td>49.403413</td>\n",
       "      <td>8.755992</td>\n",
       "      <td>49.424489</td>\n",
       "      <td>4.770830</td>\n",
       "      <td>88</td>\n",
       "    </tr>\n",
       "    <tr>\n",
       "      <th>89</th>\n",
       "      <td>8.745627</td>\n",
       "      <td>49.406574</td>\n",
       "      <td>8.714936</td>\n",
       "      <td>49.375165</td>\n",
       "      <td>4.136471</td>\n",
       "      <td>89</td>\n",
       "    </tr>\n",
       "  </tbody>\n",
       "</table>\n",
       "<p>90 rows × 6 columns</p>\n",
       "</div>"
      ]
     },
     "execution_count": 12,
     "metadata": {},
     "output_type": "execute_result"
    }
   ],
   "execution_count": 12
  },
  {
   "metadata": {
    "ExecuteTime": {
     "end_time": "2025-10-28T21:08:30.588845Z",
     "start_time": "2025-10-28T21:08:30.576937Z"
    }
   },
   "cell_type": "code",
   "source": "df['lon'][2]",
   "id": "cb9e51ab2baf4b5e",
   "outputs": [
    {
     "data": {
      "text/plain": [
       "np.float64(8.657503792414388)"
      ]
     },
     "execution_count": 4,
     "metadata": {},
     "output_type": "execute_result"
    }
   ],
   "execution_count": 4
  },
  {
   "metadata": {
    "ExecuteTime": {
     "end_time": "2025-10-28T22:22:55.731366Z",
     "start_time": "2025-10-28T22:22:55.599897Z"
    }
   },
   "cell_type": "code",
   "source": [
    "headers = {\n",
    "        \"headers\": {\n",
    "            \"Accept\": \"application/json, application/geo+json, \"\n",
    "            \"application/gpx+xml, img/png; charset=utf-8\",\n",
    "            \"Content-Type\": \"application/json; charset=utf-8\",\n",
    "        }\n",
    "    }\n",
    "\n",
    "ors_url = \"https://heal.openrouteservice.org/api-iso/ors/\"\n",
    "\n",
    "client = ors.Client(base_url=ors_url)\n",
    "\n",
    "start_coordinate = [df['lon'][2], df['lat'][1]]\n",
    "destination_coordinate = [df['lon2'][2], df['lat2'][1]]\n",
    "\n",
    "\n",
    "\n",
    "\n",
    "parameters = {\n",
    "        \"coordinates\": [start_coordinate, destination_coordinate],\n",
    "        \"instructions\": \"false\",\n",
    "        \"preference\": \"recommended\",\n",
    "        \"extra_info\": [\"csv\"],\n",
    "        \"elevation\": \"true\",\n",
    "        \"continue_straight\": \"true\",\n",
    "        \"options\": {\n",
    "            \"avoid_features\": [\"ferries\"],\n",
    "            \"profile_params\": {\"weightings\": {\"csv_factor\": 1, \"csv_column\": \"noon\"}},\n",
    "        },\n",
    "    }\n",
    "\n",
    "ors_response = client.request(\n",
    "        url=f\"v2/directions/{profile}/geojson\",\n",
    "        post_json=parameters,\n",
    "        requests_kwargs=headers,\n",
    "    )\n",
    "\n",
    "print(parameters)\n",
    "\n",
    "with open(\"../data/run_v1/01_raw/01_routes/route_1.geojson\", \"w\") as f:\n",
    "    json.dump(ors_response, f)"
   ],
   "id": "9698acc9e8cce71d",
   "outputs": [
    {
     "name": "stdout",
     "output_type": "stream",
     "text": [
      "{'coordinates': [[np.float64(8.657503792414388), np.float64(49.42912049732929)], [np.float64(8.752665401673024), np.float64(49.37735718455988)]], 'instructions': 'false', 'preference': 'recommended', 'extra_info': ['csv'], 'elevation': 'true', 'continue_straight': 'true', 'options': {'avoid_features': ['ferries'], 'profile_params': {'weightings': {'csv_factor': 1, 'csv_column': 'noon'}}}}\n"
     ]
    }
   ],
   "execution_count": 33
  },
  {
   "metadata": {
    "ExecuteTime": {
     "end_time": "2025-10-28T22:37:58.489180Z",
     "start_time": "2025-10-28T22:37:54.897311Z"
    }
   },
   "cell_type": "code",
   "source": [
    "from tqdm.notebook import tqdm\n",
    "from openrouteservice import client\n",
    "import geopandas as gpd\n",
    "import time\n",
    "import json\n",
    "\n",
    "err_iso = []\n",
    "\n",
    "ors_url = \"https://heal.openrouteservice.org/api-iso/ors/\"\n",
    "client = ors.Client(base_url=ors_url)\n",
    "\n",
    "count_requests = 0\n",
    "\n",
    "for _, row in tqdm(df.iterrows(), total=len(df)):\n",
    "\n",
    "    try:\n",
    "        start_coordinate = [row.lon, row.lat]\n",
    "        destination_coordinate = [row.lon2, row.lat2]\n",
    "        parameters['coordinates'] = [start_coordinate, destination_coordinate]\n",
    "        parameters[\"options\"][\"profile_params\"][\"weightings\"][\"csv_column\"] = \"morning\"\n",
    "        profile = \"foot-walking\"\n",
    "\n",
    "        ors_response = client.request(\n",
    "            url=f\"v2/directions/{profile}/geojson\",\n",
    "            post_json=parameters,\n",
    "            requests_kwargs=headers,\n",
    "        )\n",
    "\n",
    "        with open(f\"../data/run_v1/01_raw/01_routes/route_{row.id}.geojson\", \"w\") as f:\n",
    "            json.dump(ors_response, f)\n",
    "\n",
    "        count_requests += 1\n",
    "\n",
    "        if count_requests >= 10:\n",
    "            print(\"Reached 10 iterations.\")\n",
    "            break\n",
    "        else:\n",
    "            time.sleep(0.3)\n",
    "\n",
    "    except Exception as e:\n",
    "        print(e)\n",
    "        err_iso.append(row)\n",
    "\n",
    "\n"
   ],
   "id": "ceafbffa888d50e0",
   "outputs": [
    {
     "data": {
      "text/plain": [
       "  0%|          | 0/90 [00:00<?, ?it/s]"
      ],
      "application/vnd.jupyter.widget-view+json": {
       "version_major": 2,
       "version_minor": 0,
       "model_id": "2eabdcc013ea4ffbbd0138e073042b00"
      }
     },
     "metadata": {},
     "output_type": "display_data"
    },
    {
     "name": "stdout",
     "output_type": "stream",
     "text": [
      "Reached 10 iterations.\n"
     ]
    }
   ],
   "execution_count": 38
  },
  {
   "metadata": {},
   "cell_type": "code",
   "outputs": [],
   "execution_count": null,
   "source": "",
   "id": "43f1213ceeea3d7b"
  }
 ],
 "metadata": {
  "kernelspec": {
   "display_name": "Python 3",
   "language": "python",
   "name": "python3"
  },
  "language_info": {
   "codemirror_mode": {
    "name": "ipython",
    "version": 2
   },
   "file_extension": ".py",
   "mimetype": "text/x-python",
   "name": "python",
   "nbconvert_exporter": "python",
   "pygments_lexer": "ipython2",
   "version": "2.7.6"
  }
 },
 "nbformat": 4,
 "nbformat_minor": 5
}
