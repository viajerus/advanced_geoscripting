{
 "cells": [
  {
   "cell_type": "code",
   "id": "initial_id",
   "metadata": {},
   "source": [
    "#Import libraries\n",
    "import pandas as pd\n",
    "from pathlib import Path\n",
    "import geopandas as gpd\n",
    "import matplotlib.pyplot as plt"
   ],
   "outputs": [],
   "execution_count": null
  },
  {
   "metadata": {},
   "cell_type": "markdown",
   "source": "## Data reading and wrangling",
   "id": "3b810e976e2be785"
  },
  {
   "cell_type": "code",
   "id": "a1fd3e8d8bfc656b",
   "metadata": {},
   "source": [
    "#set directory for results\n",
    "res = 'run_v1/csv_results/'"
   ],
   "outputs": [],
   "execution_count": null
  },
  {
   "cell_type": "code",
   "id": "e8ce637a173f2e6",
   "metadata": {},
   "source": [
    "#read parquet file with aggregated results\n",
    "df = pd.read_parquet(res + 'all.parquet')"
   ],
   "outputs": [],
   "execution_count": null
  },
  {
   "cell_type": "code",
   "id": "e0a8000631f2cfa7",
   "metadata": {},
   "source": [
    "#create new columns\n",
    "\n",
    "df['route_id'] = df['source'].str.split('_').str[1]\n",
    "df['route_id'] = df['source'].str.split('_').str[1]\n",
    "df['time_day'] = df['source'].str.split('_').str[2]\n",
    "df['type'] = df['source'].str.split('_').str[3]\n",
    "df"
   ],
   "outputs": [],
   "execution_count": null
  },
  {
   "cell_type": "code",
   "id": "5a8c8789a9b267a1",
   "metadata": {},
   "source": [
    "#create dataset with aggregated distance\n",
    "dfw = df.groupby('source')['distance'].sum()\n",
    "\n",
    "dfw = dfw.to_frame().reset_index()\n",
    "\n"
   ],
   "outputs": [],
   "execution_count": null
  },
  {
   "cell_type": "code",
   "id": "da6c1771883c5d78",
   "metadata": {},
   "source": [
    "#create dataframe with relevant variables\n",
    "\n",
    "df_exp = df[['source', 's_exp', 'time_day']]\n",
    "df_exp = df_exp.drop_duplicates()"
   ],
   "outputs": [],
   "execution_count": null
  },
  {
   "cell_type": "code",
   "id": "f95ef064f7f09e5",
   "metadata": {},
   "source": [
    "#merge dataframe\n",
    "df_merged = dfw.merge(df_exp[['source', 's_exp', 'time_day']], on='source', how='inner')\n",
    "\n",
    "df_merged['route_type'] = df_merged['source'].str.split('_').str[3]\n",
    "\n",
    "df_merged"
   ],
   "outputs": [],
   "execution_count": null
  },
  {
   "cell_type": "markdown",
   "id": "6a4efdd116b05a28",
   "metadata": {},
   "source": [
    "## Length and solar exposure distribution"
   ]
  },
  {
   "cell_type": "code",
   "id": "588d50ba5a5b7b94",
   "metadata": {},
   "source": [
    "import pandas as pd\n",
    "import seaborn as sns\n",
    "import numpy as np"
   ],
   "outputs": [],
   "execution_count": null
  },
  {
   "cell_type": "code",
   "id": "bd58c8f76901608a",
   "metadata": {},
   "source": [
    "#first plot\n",
    "palette = sns.color_palette(\"Set2\", 2)\n",
    "\n",
    "p = sns.catplot(\n",
    "    kind='box',\n",
    "    data=df_merged,\n",
    "    x='route_type',\n",
    "    y='s_exp',\n",
    "    hue='route_type',\n",
    "    legend=False,\n",
    "    col='time_day',\n",
    "    col_wrap=4,\n",
    "    height=6,\n",
    "    aspect=0.8,\n",
    "    palette=palette,\n",
    "    col_order=['morning', 'noon', 'afternoon', 'evening']\n",
    ")\n",
    "\n",
    "\n",
    "p.set_titles(\"{col_name}\")\n",
    "p.set_axis_labels(\"\", \"Solar Exposure [%]\")\n",
    "p.despine(left=True)\n",
    "p.fig.subplots_adjust(top=0.9)\n",
    "p.fig.suptitle(\"Solar Exposure Distribution by Route Type and Time of Day\", fontsize=10, fontweight='bold')\n",
    "\n",
    "\n",
    "p.fig.text(0.5, 0.02, \"Route type\", ha='center', fontsize=12)\n",
    "\n",
    "p.savefig(\"s_exp_route_type_timeofday.png\", dpi=400, bbox_inches='tight')\n",
    "\n",
    "plt.show()"
   ],
   "outputs": [],
   "execution_count": null
  },
  {
   "cell_type": "code",
   "id": "c144aaac1724caa4",
   "metadata": {},
   "source": [
    "#second plot\n",
    "\n",
    "palette = sns.color_palette(\"Set2\", 2)\n",
    "\n",
    "p = sns.catplot(\n",
    "    kind='box',\n",
    "    data=df_merged,\n",
    "    x='route_type',\n",
    "    y='distance',\n",
    "    hue='route_type',\n",
    "    legend=False,\n",
    "    col='time_day',\n",
    "    col_wrap=4,\n",
    "    height=6,\n",
    "    aspect=0.8,\n",
    "    palette=palette,\n",
    "    col_order=['morning', 'noon', 'afternoon', 'evening']\n",
    ")\n",
    "\n",
    "\n",
    "p.set_titles(\"{col_name}\")\n",
    "p.set_axis_labels(\"\", \"Length [m]\")\n",
    "p.despine(left=True)\n",
    "p.fig.subplots_adjust(top=0.9)\n",
    "p.fig.suptitle(\"Length Distribution by Route Type and Time of Day\", fontsize=10, fontweight='bold')\n",
    "\n",
    "\n",
    "p.fig.text(0.5, 0.02, \"Route type\", ha='center', fontsize=12)\n",
    "\n",
    "p.savefig(\"length_route_type_timeofday.png\", dpi=400, bbox_inches='tight')\n",
    "\n",
    "plt.show()"
   ],
   "outputs": [],
   "execution_count": null
  },
  {
   "metadata": {},
   "cell_type": "markdown",
   "source": "## Find biggest length difference",
   "id": "30baabfd79724520"
  },
  {
   "cell_type": "code",
   "id": "ee6f3a78300ba3da",
   "metadata": {},
   "source": [
    "df_merged['source_no_route'] = df_merged['source'].str.rsplit('_', n=1).str[0]\n",
    "df_merged"
   ],
   "outputs": [],
   "execution_count": null
  },
  {
   "cell_type": "code",
   "id": "88927821f14c242b",
   "metadata": {},
   "source": [
    "wide_df = df_merged.pivot(\n",
    "    index='source_no_route',\n",
    "    columns='route_type',\n",
    "    values='distance'\n",
    ")"
   ],
   "outputs": [],
   "execution_count": null
  },
  {
   "cell_type": "code",
   "id": "342487ebbeaf4677",
   "metadata": {},
   "source": [
    "wide_df['Score_diff'] = wide_df['recommended'] - wide_df['shortest']\n",
    "wide_df"
   ],
   "outputs": [],
   "execution_count": null
  },
  {
   "cell_type": "code",
   "id": "3067d21818e59c9a",
   "metadata": {},
   "source": [
    "big_diff = (wide_df['recommended'] - wide_df['shortest']).abs().idxmax()\n",
    "big_diff"
   ],
   "outputs": [],
   "execution_count": null
  },
  {
   "cell_type": "code",
   "id": "91a0d97aafff26a6",
   "metadata": {},
   "source": [
    "#plot with folium\n",
    "gdf1 = gpd.read_file(f'../data/run_v1/01_raw/01_routes/{big_diff}_recommended.geojson')\n",
    "gdf2= gpd.read_file(f'../data/run_v1/01_raw/01_routes/{big_diff}_shortest.geojson')\n",
    "\n",
    "df1 = df_merged[df_merged['source'] == f'{big_diff}_recommended']\n",
    "df2 = df_merged[df_merged['source'] == f'{big_diff}_shortest']\n",
    "\n",
    "gdf1['solar_exp'] = df1.iloc[0]['s_exp']\n",
    "gdf1['source'] = df1.iloc[0]['source']\n",
    "gdf2['solar_exp'] = df2.iloc[0]['s_exp']\n",
    "gdf2['source'] = df2.iloc[0]['source']\n",
    "\n",
    "\n",
    "gdf_combined = pd.concat([gdf1, gdf2], ignore_index=True)\n",
    "\n",
    "gdf_combined\n"
   ],
   "outputs": [],
   "execution_count": null
  },
  {
   "cell_type": "code",
   "id": "e804ab0b-03a0-49ef-a6bc-97a1ecdd57e3",
   "metadata": {},
   "source": [
    "import folium\n",
    "import branca\n",
    "\n",
    "m = folium.Map([49.4, 8.7], zoom_start=12, tiles='cartodbpositron')\n",
    "\n",
    "min_val = gdf_combined['solar_exp'].min()\n",
    "max_val = gdf_combined['solar_exp'].max()\n",
    "colormap = branca.colormap.LinearColormap(\n",
    "    colors=['blue', 'green', 'yellow', 'red'],\n",
    "    vmin=min_val,\n",
    "    vmax=max_val,\n",
    "    caption='Solar Exposure'\n",
    ")\n",
    "\n",
    "\n",
    "\n",
    "for source in gdf_combined['source'].unique():\n",
    "    fg = folium.FeatureGroup(name=f\"Route: {source}\")\n",
    "    \n",
    "    geojson = folium.GeoJson(\n",
    "        gdf_combined[gdf_combined['source'] == source],\n",
    "        style_function=lambda feature, cmap=colormap: {\n",
    "            'color': cmap(feature['properties']['solar_exp']),\n",
    "            'weight': 3,\n",
    "            'opacity': 1\n",
    "        }\n",
    "    )\n",
    "    \n",
    "    geojson.add_to(fg)\n",
    "    fg.add_to(m)\n",
    "\n",
    "folium.LayerControl().add_to(m)\n",
    "\n",
    "colormap.add_to(m)\n",
    "\n",
    "m\n"
   ],
   "outputs": [],
   "execution_count": null
  },
  {
   "cell_type": "markdown",
   "id": "dd503fd1-1d27-48cb-b660-53ff7a1d4e34",
   "metadata": {},
   "source": "## Find biggest Solar exposure difference"
  },
  {
   "cell_type": "code",
   "id": "3f152b32-4831-4062-a679-d8190b33d434",
   "metadata": {},
   "source": [
    "wide_df = df_merged.pivot(\n",
    "    index='source_no_route',\n",
    "    columns='route_type',\n",
    "    values='s_exp'\n",
    ")"
   ],
   "outputs": [],
   "execution_count": null
  },
  {
   "cell_type": "code",
   "id": "e85b8581-fd58-4e86-ac98-91e1fc7382f8",
   "metadata": {},
   "source": [
    "big_diff = (wide_df['recommended'] - wide_df['shortest']).abs().idxmax()\n",
    "big_diff"
   ],
   "outputs": [],
   "execution_count": null
  },
  {
   "cell_type": "code",
   "id": "4f80621f-5d3d-47e4-a5ea-1ac718d331d9",
   "metadata": {},
   "source": [
    "gdf1 = gpd.read_file(f'../data/run_v1/01_raw/01_routes/{big_diff}_recommended.geojson')\n",
    "gdf2= gpd.read_file(f'../data/run_v1/01_raw/01_routes/{big_diff}_shortest.geojson')\n",
    "\n",
    "df1 = df_merged[df_merged['source'] == f'{big_diff}_recommended']\n",
    "df2 = df_merged[df_merged['source'] == f'{big_diff}_shortest']\n",
    "\n",
    "gdf1['solar_exp'] = df1.iloc[0]['s_exp']\n",
    "gdf1['source'] = df1.iloc[0]['source']\n",
    "gdf2['solar_exp'] = df2.iloc[0]['s_exp']\n",
    "gdf2['source'] = df2.iloc[0]['source']\n",
    "\n",
    "\n",
    "gdf_combined = pd.concat([gdf1, gdf2], ignore_index=True)\n",
    "\n",
    "gdf_combined"
   ],
   "outputs": [],
   "execution_count": null
  },
  {
   "cell_type": "code",
   "id": "bd5547abece7c2a3",
   "metadata": {},
   "source": [
    "import folium\n",
    "import branca\n",
    "\n",
    "m = folium.Map([49.4, 8.7], zoom_start=12, tiles='cartodbpositron')\n",
    "\n",
    "min_val = gdf_combined['solar_exp'].min()\n",
    "max_val = gdf_combined['solar_exp'].max()\n",
    "colormap = branca.colormap.LinearColormap(\n",
    "    colors=['blue', 'green', 'yellow', 'red'],\n",
    "    vmin=min_val,\n",
    "    vmax=max_val,\n",
    "    caption='Solar Exposure'\n",
    ")\n",
    "\n",
    "\n",
    "\n",
    "for source in gdf_combined['source'].unique():\n",
    "    fg = folium.FeatureGroup(name=f\"Route: {source}\")\n",
    "\n",
    "    geojson = folium.GeoJson(\n",
    "        gdf_combined[gdf_combined['source'] == source],\n",
    "        style_function=lambda feature, cmap=colormap: {\n",
    "            'color': cmap(feature['properties']['solar_exp']),\n",
    "            'weight': 3,\n",
    "            'opacity': 1\n",
    "        }\n",
    "    )\n",
    "\n",
    "    geojson.add_to(fg)\n",
    "    fg.add_to(m)\n",
    "\n",
    "folium.LayerControl().add_to(m)\n",
    "\n",
    "colormap.add_to(m)\n",
    "\n",
    "m"
   ],
   "outputs": [],
   "execution_count": null
  },
  {
   "cell_type": "markdown",
   "id": "70d7a4d8-5913-445c-b878-9d4b0bb7760f",
   "metadata": {},
   "source": [
    "## Correlation Matrix\n"
   ]
  },
  {
   "metadata": {},
   "cell_type": "code",
   "source": [
    "distance = df_merged[\"distance\"]\n",
    "sol_exp = df_merged[\"s_exp\"]\n",
    "\n",
    "plt.plot(distance, sol_exp, \"o\")\n",
    "plt.xlabel(\"distance\")\n",
    "plt.ylabel(\"sol_exp\")\n",
    "plt.show()"
   ],
   "id": "6ce8402beeccd480",
   "outputs": [],
   "execution_count": null
  },
  {
   "metadata": {},
   "cell_type": "code",
   "source": [
    "x = distance.copy()\n",
    "y = sol_exp.copy()\n",
    "x_bar = np.mean(distance)\n",
    "y_bar = np.mean(sol_exp)\n",
    "\n",
    "np.sum((x - x_bar) * (y - y_bar)) / (\n",
    "    np.sqrt(np.sum((x - x_bar) ** 2)) * np.sqrt(sum((y - y_bar) ** 2))\n",
    ")\n",
    "\n",
    "\n",
    "(\n",
    "    np.cov(x, y) / (np.std(x) * np.std(y))\n",
    ")\n",
    "\n",
    "\n",
    "\n",
    "print(np.corrcoef(x, y)[0, 1])\n"
   ],
   "id": "2ef9beb8db0aa0c",
   "outputs": [],
   "execution_count": null
  },
  {
   "metadata": {},
   "cell_type": "code",
   "source": "",
   "id": "4220b69f62911cba",
   "outputs": [],
   "execution_count": null
  }
 ],
 "metadata": {
  "kernelspec": {
   "display_name": "Python 3 (ipykernel)",
   "language": "python",
   "name": "python3"
  },
  "language_info": {
   "codemirror_mode": {
    "name": "ipython",
    "version": 3
   },
   "file_extension": ".py",
   "mimetype": "text/x-python",
   "name": "python",
   "nbconvert_exporter": "python",
   "pygments_lexer": "ipython3",
   "version": "3.13.5"
  }
 },
 "nbformat": 4,
 "nbformat_minor": 5
}
